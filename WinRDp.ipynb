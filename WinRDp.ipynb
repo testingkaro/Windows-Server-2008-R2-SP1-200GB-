{
  "nbformat": 4,
  "nbformat_minor": 0,
  "metadata": {
    "colab": {
      "name": "WinRDp.ipynb",
      "provenance": [],
      "authorship_tag": "ABX9TyNo+VPb+asVdA1RQ2dlUt8K",
      "include_colab_link": true
    },
    "kernelspec": {
      "name": "python3",
      "display_name": "Python 3"
    },
    "language_info": {
      "name": "python"
    }
  },
  "cells": [
    {
      "cell_type": "markdown",
      "metadata": {
        "id": "view-in-github",
        "colab_type": "text"
      },
      "source": [
        "<a href=\"https://colab.research.google.com/github/testingkaro/Windows-Server-2008-R2-SP1-200GB-/blob/main/WinRDp.ipynb\" target=\"_parent\"><img src=\"https://colab.research.google.com/assets/colab-badge.svg\" alt=\"Open In Colab\"/></a>"
      ]
    },
    {
      "cell_type": "code",
      "execution_count": null,
      "metadata": {
        "colab": {
          "base_uri": "https://localhost:8080/"
        },
        "id": "gys08JKJKhUG",
        "outputId": "a5a9f825-b9ac-4916-d7a1-73daeaece03b"
      },
      "outputs": [
        {
          "output_type": "stream",
          "name": "stdout",
          "text": [
            "Authtoken saved to configuration file: /root/.ngrok2/ngrok.yml\n",
            "  % Total    % Received % Xferd  Average Speed   Time    Time     Time  Current\n",
            "                                 Dload  Upload   Total   Spent    Left  Speed\n",
            "100   167    0   167    0     0    518      0 --:--:-- --:--:-- --:--:--   517\n",
            "100   300    0   300    0     0    645      0 --:--:-- --:--:-- --:--:--   645\n",
            "100   850  100   850    0     0   1154      0 --:--:-- --:--:-- --:--:--  1154\n",
            " 15 7001M   15 1065M    0     0  22.9M      0  0:05:04  0:00:46  0:04:18 21.5M"
          ]
        }
      ],
      "source": [
        "!wget https://bin.equinox.io/c/4VmDzA7iaHb/ngrok-stable-linux-amd64.zip > /dev/null 2>&1\n",
        "!unzip ngrok-stable-linux-amd64.zip > /dev/null 2>&1\n",
        "#@title Paste authtoken here (change your own token):\n",
        "!./ngrok authtoken 25VnB9rXLBkM9bjafCncoGpRXH6_bwcmMragYiSCjnfjifNs \n",
        "!nohup ./ngrok tcp 5900 &>/dev/null &\n",
        "#@title *Please wait for installing...*\n",
        "!sudo apt update -y > /dev/null 2>&1\n",
        "#@title \"Installing QEMU (2-3m)...\"\n",
        "!sudo apt install qemu-system-x86 curl -y > /dev/null 2>&1\n",
        "#@title Downloading Windows Disk...\n",
        "!curl -L -o Windows-Server-2008-R2-SP1-200GB.qcow2 https://app.vagrantup.com/thuonghai2711/boxes/WindowsQCOW2/versions/1.1.5/providers/qemu.box\n",
        "#@title \"Windows Server x64 Lite On Google Colab\"\n",
        "#@title Your VNC IP Address:\n",
        "!curl --silent --show-error http://127.0.0.1:4040/api/tunnels | sed -nE 's/.*public_url\":\"tcp:..([^\"]*).*/\\1/p'\n",
        "#@title \"Note: Use Right-Click Or Ctrl+C To Copy\"\n",
        "#@title \"Please Keep Colab Tab Open, Maximum Time 12h\"\n",
        "!sudo qemu-system-x86_64 -vnc :0 -hda Windows-Server-2008-R2-SP1-200GB.qcow2  -smp cores=2  -m 8192M -machine usb=on -device usb-tablet > /dev/null 2>&1"
      ]
    }
  ]
}
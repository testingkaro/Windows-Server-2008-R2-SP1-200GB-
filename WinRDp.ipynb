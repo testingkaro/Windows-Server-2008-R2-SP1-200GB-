{
  "nbformat": 4,
  "nbformat_minor": 0,
  "metadata": {
    "colab": {
      "name": "WinRDp.ipynb",
      "provenance": [],
      "authorship_tag": "ABX9TyM2sY+Usj1Jk3zisLkgLQey",
      "include_colab_link": true
    },
    "kernelspec": {
      "name": "python3",
      "display_name": "Python 3"
    },
    "language_info": {
      "name": "python"
    }
  },
  "cells": [
    {
      "cell_type": "markdown",
      "metadata": {
        "id": "view-in-github",
        "colab_type": "text"
      },
      "source": [
        "<a href=\"https://colab.research.google.com/github/testingkaro/Windows-Server-2008-R2-SP1-200GB-/blob/main/WinRDp.ipynb\" target=\"_parent\"><img src=\"https://colab.research.google.com/assets/colab-badge.svg\" alt=\"Open In Colab\"/></a>"
      ]
    },
    {
      "cell_type": "code",
      "execution_count": null,
      "metadata": {
        "colab": {
          "base_uri": "https://localhost:8080/"
        },
        "id": "gys08JKJKhUG",
        "outputId": "5b77843c-8332-47b7-f93f-bb239c642bc4"
      },
      "outputs": [
        {
          "output_type": "stream",
          "name": "stdout",
          "text": [
            "NAME:\n",
            "   authtoken - save authtoken to configuration file\n",
            "\n",
            "USAGE:\n",
            "   ngrok authtoken [command options] [arguments...]\n",
            "\n",
            "DESCRIPTION:\n",
            "   The authtoken command modifies your configuration file to include\n",
            "   the specified authtoken. By default, this configuration file is located\n",
            "   at $HOME/.ngrok2/ngrok.yml\n",
            "\n",
            "   The ngrok.com service requires that you sign up for an account to use\n",
            "   many advanced service features. In order to associate your client with\n",
            "   an account, it must pass a secret token to the ngrok.com service when it\n",
            "   starts up. Instead of passing this authtoken on every invocation, you may\n",
            "   use this command to save it into your configuration file so that your\n",
            "   client always authenticates you properly.\n",
            "\n",
            "EXAMPLE:\n",
            "    ngrok authtoken BDZIXnhJt2HNWLXyQ5PM_qCaBq0W2sNFcCa0rfTZd\n",
            "\n",
            "OPTIONS:\n",
            "   --config \t\tsave in this config file, default: ~/.ngrok2/ngrok.yml\n",
            "   --log \"false\"\tpath to log file, 'stdout', 'stderr' or 'false'\n",
            "   --log-format \"term\"\tlog record format: 'term', 'logfmt', 'json'\n",
            "   --log-level \"info\"\tlogging level\n",
            "\n",
            "ERROR:  You must pass a single argument, the authtoken to save to configuration file.\n",
            "  % Total    % Received % Xferd  Average Speed   Time    Time     Time  Current\n",
            "                                 Dload  Upload   Total   Spent    Left  Speed\n",
            "100   167    0   167    0     0   1143      0 --:--:-- --:--:-- --:--:--  1143\n",
            "100   300    0   300    0     0   1003      0 --:--:-- --:--:-- --:--:--  4347\n",
            "100   850  100   850    0     0   2242      0 --:--:-- --:--:-- --:--:--  2242\n",
            "  9 7001M    9  685M    0     0  21.8M      0  0:05:19  0:00:31  0:04:48 22.2M"
          ]
        }
      ],
      "source": [
        "!wget https://bin.equinox.io/c/4VmDzA7iaHb/ngrok-stable-linux-amd64.zip > /dev/null 2>&1\n",
        "!unzip ngrok-stable-linux-amd64.zip > /dev/null 2>&1\n",
        "#@title Paste authtoken here (change your own token):\n",
        "!./ngrok authtoken $CRP \n",
        "!nohup ./ngrok tcp 5900 &>/dev/null &\n",
        "#@title *Please wait for installing...*\n",
        "!sudo apt update -y > /dev/null 2>&1\n",
        "#@title \"Installing QEMU (2-3m)...\"\n",
        "!sudo apt install qemu-system-x86 curl -y > /dev/null 2>&1\n",
        "#@title Downloading Windows Disk...\n",
        "!curl -L -o Windows-Server-2008-R2-SP1-200GB.qcow2 https://app.vagrantup.com/thuonghai2711/boxes/WindowsQCOW2/versions/1.1.5/providers/qemu.box\n",
        "#@title \"Windows Server x64 Lite On Google Colab\"\n",
        "#@title Your VNC IP Address:\n",
        "!curl --silent --show-error http://127.0.0.1:4040/api/tunnels | sed -nE 's/.*public_url\":\"tcp:..([^\"]*).*/\\1/p'\n",
        "#@title \"Note: Use Right-Click Or Ctrl+C To Copy\"\n",
        "#@title \"Please Keep Colab Tab Open, Maximum Time 12h\"\n",
        "!sudo qemu-system-x86_64 -vnc :0 -hda Windows-Server-2008-R2-SP1-200GB.qcow2  -smp cores=2  -m 8192M -machine usb=on -device usb-tablet > /dev/null 2>&1"
      ]
    }
  ]
}